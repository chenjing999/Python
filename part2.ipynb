{
 "cells": [
  {
   "cell_type": "code",
   "execution_count": 1,
   "id": "dd4befe9",
   "metadata": {},
   "outputs": [],
   "source": [
    "import pandas as pd\n",
    "import numpy as np\n",
    "%matplotlib inline\n",
    "import matplotlib.pyplot as plt\n",
    "from nltk.corpus import stopwords\n",
    "from sklearn.model_selection import train_test_split\n",
    "from sklearn.feature_extraction.text import TfidfVectorizer\n",
    "from sklearn.linear_model import LogisticRegression\n",
    "from sklearn.metrics import accuracy_score\n",
    "from sklearn.metrics import confusion_matrix\n",
    "from sklearn.metrics import ConfusionMatrixDisplay\n",
    "import sklearn.metrics as metrics\n",
    "import warnings\n",
    "warnings.filterwarnings(\"ignore\") "
   ]
  },
  {
   "cell_type": "markdown",
   "id": "f99ac6ac",
   "metadata": {},
   "source": [
    "<font face=Cambria color=black size=3>\n",
    "Since the hotel reviews they have received reflect user experience during their stay at the hotel, the classification model is built based on the assumption that only use customer reviews to analyze the review score. It could be considered as text processing and sentiment analysis task."
   ]
  },
  {
   "cell_type": "markdown",
   "id": "af3ffd34",
   "metadata": {},
   "source": [
    "### 1. Load the data"
   ]
  },
  {
   "cell_type": "code",
   "execution_count": 2,
   "id": "b0a12deb",
   "metadata": {},
   "outputs": [
    {
     "data": {
      "text/plain": [
       "(515738, 12)"
      ]
     },
     "execution_count": 2,
     "metadata": {},
     "output_type": "execute_result"
    }
   ],
   "source": [
    "# Load the data\n",
    "hotel = pd.read_csv(r'F:\\IMP_2022\\KPMG\\Jingjing Chen\\Jingjing Chen\\KPMG Lighthouse NZ Early Career Assessment\\data.csv')\n",
    "hotel.shape"
   ]
  },
  {
   "cell_type": "code",
   "execution_count": 3,
   "id": "460d08e3",
   "metadata": {},
   "outputs": [
    {
     "data": {
      "text/html": [
       "<div>\n",
       "<style scoped>\n",
       "    .dataframe tbody tr th:only-of-type {\n",
       "        vertical-align: middle;\n",
       "    }\n",
       "\n",
       "    .dataframe tbody tr th {\n",
       "        vertical-align: top;\n",
       "    }\n",
       "\n",
       "    .dataframe thead th {\n",
       "        text-align: right;\n",
       "    }\n",
       "</style>\n",
       "<table border=\"1\" class=\"dataframe\">\n",
       "  <thead>\n",
       "    <tr style=\"text-align: right;\">\n",
       "      <th></th>\n",
       "      <th>hotel_address</th>\n",
       "      <th>review_date</th>\n",
       "      <th>hotel_name</th>\n",
       "      <th>negative_review</th>\n",
       "      <th>positive_review</th>\n",
       "      <th>reviewer_score</th>\n",
       "      <th>tags</th>\n",
       "      <th>days_since_review</th>\n",
       "      <th>reviewer_nationality</th>\n",
       "      <th>total_number_of_reviews_reviewer_has_given</th>\n",
       "      <th>lat</th>\n",
       "      <th>lng</th>\n",
       "    </tr>\n",
       "  </thead>\n",
       "  <tbody>\n",
       "    <tr>\n",
       "      <th>0</th>\n",
       "      <td>s Gravesandestraat 55 Oost 1092 AA Amsterdam ...</td>\n",
       "      <td>8/03/2017</td>\n",
       "      <td>Hotel Arena</td>\n",
       "      <td>I am so angry that i made this post available...</td>\n",
       "      <td>Only the park outside of the hotel was beauti...</td>\n",
       "      <td>2.9</td>\n",
       "      <td>[' Leisure trip ', ' Couple ', ' Duplex Double...</td>\n",
       "      <td>0 days</td>\n",
       "      <td>Russia</td>\n",
       "      <td>1</td>\n",
       "      <td>52.360576</td>\n",
       "      <td>4.915968</td>\n",
       "    </tr>\n",
       "    <tr>\n",
       "      <th>1</th>\n",
       "      <td>s Gravesandestraat 55 Oost 1092 AA Amsterdam ...</td>\n",
       "      <td>8/03/2017</td>\n",
       "      <td>Hotel Arena</td>\n",
       "      <td>No Negative</td>\n",
       "      <td>No real complaints the hotel was great great ...</td>\n",
       "      <td>7.5</td>\n",
       "      <td>[' Leisure trip ', ' Couple ', ' Duplex Double...</td>\n",
       "      <td>0 days</td>\n",
       "      <td>Ireland</td>\n",
       "      <td>1</td>\n",
       "      <td>52.360576</td>\n",
       "      <td>4.915968</td>\n",
       "    </tr>\n",
       "    <tr>\n",
       "      <th>2</th>\n",
       "      <td>s Gravesandestraat 55 Oost 1092 AA Amsterdam ...</td>\n",
       "      <td>7/31/2017</td>\n",
       "      <td>Hotel Arena</td>\n",
       "      <td>Rooms are nice but for elderly a bit difficul...</td>\n",
       "      <td>Location was good and staff were ok It is cut...</td>\n",
       "      <td>7.1</td>\n",
       "      <td>[' Leisure trip ', ' Family with young childre...</td>\n",
       "      <td>3 days</td>\n",
       "      <td>Australia</td>\n",
       "      <td>1</td>\n",
       "      <td>52.360576</td>\n",
       "      <td>4.915968</td>\n",
       "    </tr>\n",
       "  </tbody>\n",
       "</table>\n",
       "</div>"
      ],
      "text/plain": [
       "                                       hotel_address review_date   hotel_name  \\\n",
       "0   s Gravesandestraat 55 Oost 1092 AA Amsterdam ...   8/03/2017  Hotel Arena   \n",
       "1   s Gravesandestraat 55 Oost 1092 AA Amsterdam ...   8/03/2017  Hotel Arena   \n",
       "2   s Gravesandestraat 55 Oost 1092 AA Amsterdam ...   7/31/2017  Hotel Arena   \n",
       "\n",
       "                                     negative_review  \\\n",
       "0   I am so angry that i made this post available...   \n",
       "1                                        No Negative   \n",
       "2   Rooms are nice but for elderly a bit difficul...   \n",
       "\n",
       "                                     positive_review  reviewer_score  \\\n",
       "0   Only the park outside of the hotel was beauti...             2.9   \n",
       "1   No real complaints the hotel was great great ...             7.5   \n",
       "2   Location was good and staff were ok It is cut...             7.1   \n",
       "\n",
       "                                                tags days_since_review  \\\n",
       "0  [' Leisure trip ', ' Couple ', ' Duplex Double...            0 days   \n",
       "1  [' Leisure trip ', ' Couple ', ' Duplex Double...            0 days   \n",
       "2  [' Leisure trip ', ' Family with young childre...            3 days   \n",
       "\n",
       "  reviewer_nationality  total_number_of_reviews_reviewer_has_given        lat  \\\n",
       "0              Russia                                            1  52.360576   \n",
       "1             Ireland                                            1  52.360576   \n",
       "2           Australia                                            1  52.360576   \n",
       "\n",
       "        lng  \n",
       "0  4.915968  \n",
       "1  4.915968  \n",
       "2  4.915968  "
      ]
     },
     "execution_count": 3,
     "metadata": {},
     "output_type": "execute_result"
    }
   ],
   "source": [
    "hotel.head(3) "
   ]
  },
  {
   "cell_type": "code",
   "execution_count": 4,
   "id": "63c35c5b",
   "metadata": {},
   "outputs": [
    {
     "data": {
      "text/plain": [
       "Index(['hotel_address', 'review_date', 'hotel_name', 'negative_review',\n",
       "       'positive_review', 'reviewer_score', 'tags', 'days_since_review',\n",
       "       'reviewer_nationality', 'total_number_of_reviews_reviewer_has_given',\n",
       "       'lat', 'lng'],\n",
       "      dtype='object')"
      ]
     },
     "execution_count": 4,
     "metadata": {},
     "output_type": "execute_result"
    }
   ],
   "source": [
    "# Features/Attibutes\n",
    "hotel.columns"
   ]
  },
  {
   "cell_type": "code",
   "execution_count": 5,
   "id": "301ff96a",
   "metadata": {},
   "outputs": [
    {
     "data": {
      "text/plain": [
       "lat                                           3268\n",
       "lng                                           3268\n",
       "hotel_address                                    0\n",
       "review_date                                      0\n",
       "hotel_name                                       0\n",
       "negative_review                                  0\n",
       "positive_review                                  0\n",
       "reviewer_score                                   0\n",
       "tags                                             0\n",
       "days_since_review                                0\n",
       "reviewer_nationality                             0\n",
       "total_number_of_reviews_reviewer_has_given       0\n",
       "dtype: int64"
      ]
     },
     "execution_count": 5,
     "metadata": {},
     "output_type": "execute_result"
    }
   ],
   "source": [
    "# Check missing value\n",
    "hotel.isnull().sum().sort_values(ascending=False)\n",
    "# print(hotel[hotel.isnull().values==True])"
   ]
  },
  {
   "cell_type": "code",
   "execution_count": 6,
   "id": "b20a7aff",
   "metadata": {},
   "outputs": [],
   "source": [
    "df = hotel.copy()"
   ]
  },
  {
   "cell_type": "markdown",
   "id": "3d2d38d9",
   "metadata": {},
   "source": [
    "### 2. Exploratory Data Analysis"
   ]
  },
  {
   "cell_type": "code",
   "execution_count": 7,
   "id": "faa76f97",
   "metadata": {},
   "outputs": [
    {
     "data": {
      "image/png": "[encoded data removed]",
      "text/plain": [
       "<Figure size 432x288 with 1 Axes>"
      ]
     },
     "metadata": {
      "needs_background": "light"
     },
     "output_type": "display_data"
    }
   ],
   "source": [
    "# The distribution of reviewer score\n",
    "x = df['reviewer_score']\n",
    "plt.hist(x, bins = 50)\n",
    "plt.title('Distribution of the reviewer score')\n",
    "plt.show()"
   ]
  },
  {
   "cell_type": "code",
   "execution_count": 8,
   "id": "7c35e107",
   "metadata": {},
   "outputs": [
    {
     "name": "stdout",
     "output_type": "stream",
     "text": [
      "The number of negative_review including 'No Negative' is:  127890\n",
      "The number of positive_review including 'No Positive'is:  35946\n"
     ]
    }
   ],
   "source": [
    "# Explore the value in a single column\n",
    "num_no_negtive = len(df[df[\"negative_review\"]==\"No Negative\"])  #127890\n",
    "num_no_positive = len(df[df[\"positive_review\"]==\"No Positive\"])  #35946\n",
    "print(\"The number of negative_review including 'No Negative' is: \", num_no_negtive)\n",
    "print(\"The number of positive_review including 'No Positive'is: \",num_no_positive)"
   ]
  },
  {
   "cell_type": "markdown",
   "id": "b593b653",
   "metadata": {},
   "source": [
    "<font face=Cambria color=black size=3>\n",
    "It is worth noticing that the negative_review column includes many 'No Negative' customer reviews, and similarly, the positive_review column includes 'No Positive' reviews, which would be removed in the data preprocessing step. "
   ]
  },
  {
   "cell_type": "markdown",
   "id": "24f9d424",
   "metadata": {},
   "source": [
    "### 3. Data Preprocessing"
   ]
  },
  {
   "cell_type": "markdown",
   "id": "54f2ef01",
   "metadata": {},
   "source": [
    "<font face=Cambria color=black size=3>\n",
    "Since the classification task requires labels, the reviewer scores will be converted from floating-point numerical data to category data by setting a threshold (whether reviewer_score is greater than nine). "
   ]
  },
  {
   "cell_type": "code",
   "execution_count": 9,
   "id": "cf310c80",
   "metadata": {},
   "outputs": [
    {
     "data": {
      "text/html": [
       "<div>\n",
       "<style scoped>\n",
       "    .dataframe tbody tr th:only-of-type {\n",
       "        vertical-align: middle;\n",
       "    }\n",
       "\n",
       "    .dataframe tbody tr th {\n",
       "        vertical-align: top;\n",
       "    }\n",
       "\n",
       "    .dataframe thead th {\n",
       "        text-align: right;\n",
       "    }\n",
       "</style>\n",
       "<table border=\"1\" class=\"dataframe\">\n",
       "  <thead>\n",
       "    <tr style=\"text-align: right;\">\n",
       "      <th></th>\n",
       "      <th>hotel_address</th>\n",
       "      <th>review_date</th>\n",
       "      <th>hotel_name</th>\n",
       "      <th>negative_review</th>\n",
       "      <th>positive_review</th>\n",
       "      <th>reviewer_score</th>\n",
       "      <th>tags</th>\n",
       "      <th>days_since_review</th>\n",
       "      <th>reviewer_nationality</th>\n",
       "      <th>total_number_of_reviews_reviewer_has_given</th>\n",
       "      <th>lat</th>\n",
       "      <th>lng</th>\n",
       "      <th>review_class</th>\n",
       "    </tr>\n",
       "  </thead>\n",
       "  <tbody>\n",
       "    <tr>\n",
       "      <th>0</th>\n",
       "      <td>s Gravesandestraat 55 Oost 1092 AA Amsterdam ...</td>\n",
       "      <td>8/03/2017</td>\n",
       "      <td>Hotel Arena</td>\n",
       "      <td>I am so angry that i made this post available...</td>\n",
       "      <td>Only the park outside of the hotel was beauti...</td>\n",
       "      <td>2.9</td>\n",
       "      <td>[' Leisure trip ', ' Couple ', ' Duplex Double...</td>\n",
       "      <td>0 days</td>\n",
       "      <td>Russia</td>\n",
       "      <td>1</td>\n",
       "      <td>52.360576</td>\n",
       "      <td>4.915968</td>\n",
       "      <td>0</td>\n",
       "    </tr>\n",
       "    <tr>\n",
       "      <th>1</th>\n",
       "      <td>s Gravesandestraat 55 Oost 1092 AA Amsterdam ...</td>\n",
       "      <td>8/03/2017</td>\n",
       "      <td>Hotel Arena</td>\n",
       "      <td>No Negative</td>\n",
       "      <td>No real complaints the hotel was great great ...</td>\n",
       "      <td>7.5</td>\n",
       "      <td>[' Leisure trip ', ' Couple ', ' Duplex Double...</td>\n",
       "      <td>0 days</td>\n",
       "      <td>Ireland</td>\n",
       "      <td>1</td>\n",
       "      <td>52.360576</td>\n",
       "      <td>4.915968</td>\n",
       "      <td>0</td>\n",
       "    </tr>\n",
       "    <tr>\n",
       "      <th>2</th>\n",
       "      <td>s Gravesandestraat 55 Oost 1092 AA Amsterdam ...</td>\n",
       "      <td>7/31/2017</td>\n",
       "      <td>Hotel Arena</td>\n",
       "      <td>Rooms are nice but for elderly a bit difficul...</td>\n",
       "      <td>Location was good and staff were ok It is cut...</td>\n",
       "      <td>7.1</td>\n",
       "      <td>[' Leisure trip ', ' Family with young childre...</td>\n",
       "      <td>3 days</td>\n",
       "      <td>Australia</td>\n",
       "      <td>1</td>\n",
       "      <td>52.360576</td>\n",
       "      <td>4.915968</td>\n",
       "      <td>0</td>\n",
       "    </tr>\n",
       "  </tbody>\n",
       "</table>\n",
       "</div>"
      ],
      "text/plain": [
       "                                       hotel_address review_date   hotel_name  \\\n",
       "0   s Gravesandestraat 55 Oost 1092 AA Amsterdam ...   8/03/2017  Hotel Arena   \n",
       "1   s Gravesandestraat 55 Oost 1092 AA Amsterdam ...   8/03/2017  Hotel Arena   \n",
       "2   s Gravesandestraat 55 Oost 1092 AA Amsterdam ...   7/31/2017  Hotel Arena   \n",
       "\n",
       "                                     negative_review  \\\n",
       "0   I am so angry that i made this post available...   \n",
       "1                                        No Negative   \n",
       "2   Rooms are nice but for elderly a bit difficul...   \n",
       "\n",
       "                                     positive_review  reviewer_score  \\\n",
       "0   Only the park outside of the hotel was beauti...             2.9   \n",
       "1   No real complaints the hotel was great great ...             7.5   \n",
       "2   Location was good and staff were ok It is cut...             7.1   \n",
       "\n",
       "                                                tags days_since_review  \\\n",
       "0  [' Leisure trip ', ' Couple ', ' Duplex Double...            0 days   \n",
       "1  [' Leisure trip ', ' Couple ', ' Duplex Double...            0 days   \n",
       "2  [' Leisure trip ', ' Family with young childre...            3 days   \n",
       "\n",
       "  reviewer_nationality  total_number_of_reviews_reviewer_has_given        lat  \\\n",
       "0              Russia                                            1  52.360576   \n",
       "1             Ireland                                            1  52.360576   \n",
       "2           Australia                                            1  52.360576   \n",
       "\n",
       "        lng  review_class  \n",
       "0  4.915968             0  \n",
       "1  4.915968             0  \n",
       "2  4.915968             0  "
      ]
     },
     "execution_count": 9,
     "metadata": {},
     "output_type": "execute_result"
    }
   ],
   "source": [
    "# Create the label/target column for this classification task\n",
    "df[\"review_class\"] = df[\"reviewer_score\"].apply(lambda x: 1 if x > 9 else 0)\n",
    "df.head(3)"
   ]
  },
  {
   "cell_type": "markdown",
   "id": "12b72459",
   "metadata": {},
   "source": [
    "<font face=Cambria color=black size=3>\n",
    "The column named 'review_class' is our target variable (i.e., the variable which we want to predict). The two possible classes are '1' (Yes) and '0' (No). This means our prediction problem is a binary classification problem."
   ]
  },
  {
   "cell_type": "code",
   "execution_count": 10,
   "id": "0639570a",
   "metadata": {},
   "outputs": [
    {
     "data": {
      "image/png": "[encoded data removed]",
      "text/plain": [
       "<Figure size 432x288 with 1 Axes>"
      ]
     },
     "metadata": {
      "needs_background": "light"
     },
     "output_type": "display_data"
    }
   ],
   "source": [
    "df_label = df['review_class'].value_counts()\n",
    "value = df['review_class'].unique()\n",
    "ax = df_label.plot.bar(x=value, y=df_label, rot=0)\n",
    "plt.xlabel(\"Number of samples\")\n",
    "plt.title(\"Binary Target Disribution\");"
   ]
  },
  {
   "cell_type": "markdown",
   "id": "b582f98f",
   "metadata": {},
   "source": [
    "<font face=Cambria color=black size=3>\n",
    "As the aboved bar chart shown, this is a balanced dataset, and no need to be sampled."
   ]
  },
  {
   "cell_type": "code",
   "execution_count": 11,
   "id": "417cb325",
   "metadata": {},
   "outputs": [
    {
     "data": {
      "text/plain": [
       "0    269348\n",
       "1    246390\n",
       "Name: review_class, dtype: int64"
      ]
     },
     "execution_count": 11,
     "metadata": {},
     "output_type": "execute_result"
    }
   ],
   "source": [
    "label_counts = df['review_class'].value_counts() \n",
    "label_counts"
   ]
  },
  {
   "cell_type": "markdown",
   "id": "35a06b86",
   "metadata": {},
   "source": [
    "### 3.1 Create extra features"
   ]
  },
  {
   "cell_type": "code",
   "execution_count": 12,
   "id": "fd679c5a",
   "metadata": {},
   "outputs": [
    {
     "data": {
      "text/html": [
       "<div>\n",
       "<style scoped>\n",
       "    .dataframe tbody tr th:only-of-type {\n",
       "        vertical-align: middle;\n",
       "    }\n",
       "\n",
       "    .dataframe tbody tr th {\n",
       "        vertical-align: top;\n",
       "    }\n",
       "\n",
       "    .dataframe thead th {\n",
       "        text-align: right;\n",
       "    }\n",
       "</style>\n",
       "<table border=\"1\" class=\"dataframe\">\n",
       "  <thead>\n",
       "    <tr style=\"text-align: right;\">\n",
       "      <th></th>\n",
       "      <th>hotel_address</th>\n",
       "      <th>review_date</th>\n",
       "      <th>hotel_name</th>\n",
       "      <th>negative_review</th>\n",
       "      <th>positive_review</th>\n",
       "      <th>reviewer_score</th>\n",
       "      <th>tags</th>\n",
       "      <th>days_since_review</th>\n",
       "      <th>reviewer_nationality</th>\n",
       "      <th>total_number_of_reviews_reviewer_has_given</th>\n",
       "      <th>lat</th>\n",
       "      <th>lng</th>\n",
       "      <th>review_class</th>\n",
       "      <th>review</th>\n",
       "    </tr>\n",
       "  </thead>\n",
       "  <tbody>\n",
       "    <tr>\n",
       "      <th>0</th>\n",
       "      <td>s Gravesandestraat 55 Oost 1092 AA Amsterdam ...</td>\n",
       "      <td>8/03/2017</td>\n",
       "      <td>Hotel Arena</td>\n",
       "      <td>I am so angry that i made this post available...</td>\n",
       "      <td>Only the park outside of the hotel was beauti...</td>\n",
       "      <td>2.9</td>\n",
       "      <td>[' Leisure trip ', ' Couple ', ' Duplex Double...</td>\n",
       "      <td>0 days</td>\n",
       "      <td>Russia</td>\n",
       "      <td>1</td>\n",
       "      <td>52.360576</td>\n",
       "      <td>4.915968</td>\n",
       "      <td>0</td>\n",
       "      <td>I am so angry that i made this post available...</td>\n",
       "    </tr>\n",
       "    <tr>\n",
       "      <th>1</th>\n",
       "      <td>s Gravesandestraat 55 Oost 1092 AA Amsterdam ...</td>\n",
       "      <td>8/03/2017</td>\n",
       "      <td>Hotel Arena</td>\n",
       "      <td>No Negative</td>\n",
       "      <td>No real complaints the hotel was great great ...</td>\n",
       "      <td>7.5</td>\n",
       "      <td>[' Leisure trip ', ' Couple ', ' Duplex Double...</td>\n",
       "      <td>0 days</td>\n",
       "      <td>Ireland</td>\n",
       "      <td>1</td>\n",
       "      <td>52.360576</td>\n",
       "      <td>4.915968</td>\n",
       "      <td>0</td>\n",
       "      <td>No Negative No real complaints the hotel was g...</td>\n",
       "    </tr>\n",
       "    <tr>\n",
       "      <th>2</th>\n",
       "      <td>s Gravesandestraat 55 Oost 1092 AA Amsterdam ...</td>\n",
       "      <td>7/31/2017</td>\n",
       "      <td>Hotel Arena</td>\n",
       "      <td>Rooms are nice but for elderly a bit difficul...</td>\n",
       "      <td>Location was good and staff were ok It is cut...</td>\n",
       "      <td>7.1</td>\n",
       "      <td>[' Leisure trip ', ' Family with young childre...</td>\n",
       "      <td>3 days</td>\n",
       "      <td>Australia</td>\n",
       "      <td>1</td>\n",
       "      <td>52.360576</td>\n",
       "      <td>4.915968</td>\n",
       "      <td>0</td>\n",
       "      <td>Rooms are nice but for elderly a bit difficul...</td>\n",
       "    </tr>\n",
       "  </tbody>\n",
       "</table>\n",
       "</div>"
      ],
      "text/plain": [
       "                                       hotel_address review_date   hotel_name  \\\n",
       "0   s Gravesandestraat 55 Oost 1092 AA Amsterdam ...   8/03/2017  Hotel Arena   \n",
       "1   s Gravesandestraat 55 Oost 1092 AA Amsterdam ...   8/03/2017  Hotel Arena   \n",
       "2   s Gravesandestraat 55 Oost 1092 AA Amsterdam ...   7/31/2017  Hotel Arena   \n",
       "\n",
       "                                     negative_review  \\\n",
       "0   I am so angry that i made this post available...   \n",
       "1                                        No Negative   \n",
       "2   Rooms are nice but for elderly a bit difficul...   \n",
       "\n",
       "                                     positive_review  reviewer_score  \\\n",
       "0   Only the park outside of the hotel was beauti...             2.9   \n",
       "1   No real complaints the hotel was great great ...             7.5   \n",
       "2   Location was good and staff were ok It is cut...             7.1   \n",
       "\n",
       "                                                tags days_since_review  \\\n",
       "0  [' Leisure trip ', ' Couple ', ' Duplex Double...            0 days   \n",
       "1  [' Leisure trip ', ' Couple ', ' Duplex Double...            0 days   \n",
       "2  [' Leisure trip ', ' Family with young childre...            3 days   \n",
       "\n",
       "  reviewer_nationality  total_number_of_reviews_reviewer_has_given        lat  \\\n",
       "0              Russia                                            1  52.360576   \n",
       "1             Ireland                                            1  52.360576   \n",
       "2           Australia                                            1  52.360576   \n",
       "\n",
       "        lng  review_class                                             review  \n",
       "0  4.915968             0   I am so angry that i made this post available...  \n",
       "1  4.915968             0  No Negative No real complaints the hotel was g...  \n",
       "2  4.915968             0   Rooms are nice but for elderly a bit difficul...  "
      ]
     },
     "execution_count": 12,
     "metadata": {},
     "output_type": "execute_result"
    }
   ],
   "source": [
    "# Merge two column to add a column including all review\n",
    "df[\"review\"] = df[\"negative_review\"] + df[\"positive_review\"]\n",
    "df.head(3)"
   ]
  },
  {
   "cell_type": "code",
   "execution_count": 13,
   "id": "5d23b03d",
   "metadata": {},
   "outputs": [],
   "source": [
    "# Data cleaning - remove 'No Negative' or 'No Positive' from text\n",
    "df[\"review\"] = df[\"review\"].apply(lambda x: x.replace(\"No Negative\", \"\").replace(\"No Positive\", \"\"))"
   ]
  },
  {
   "cell_type": "code",
   "execution_count": 14,
   "id": "8a1041c7",
   "metadata": {},
   "outputs": [
    {
     "data": {
      "text/plain": [
       "179"
      ]
     },
     "execution_count": 14,
     "metadata": {},
     "output_type": "execute_result"
    }
   ],
   "source": [
    "# Removing stop words before counting\n",
    "stop_words = stopwords.words('english')\n",
    "len(stop_words)\n",
    "# stop_words[5]"
   ]
  },
  {
   "cell_type": "code",
   "execution_count": 15,
   "id": "f41f3884",
   "metadata": {},
   "outputs": [
    {
     "data": {
      "text/plain": [
       "176"
      ]
     },
     "execution_count": 15,
     "metadata": {},
     "output_type": "execute_result"
    }
   ],
   "source": [
    "# Keep these words since they are important for evaluating the review score\n",
    "stop_words.remove(\"no\")\n",
    "stop_words.remove(\"not\")\n",
    "stop_words.remove(\"nor\")\n",
    "len(stop_words)"
   ]
  },
  {
   "cell_type": "code",
   "execution_count": 16,
   "id": "2fa1ff6e",
   "metadata": {},
   "outputs": [
    {
     "name": "stdout",
     "output_type": "stream",
     "text": [
      "(515738, 15)\n"
     ]
    },
    {
     "data": {
      "text/html": [
       "<div>\n",
       "<style scoped>\n",
       "    .dataframe tbody tr th:only-of-type {\n",
       "        vertical-align: middle;\n",
       "    }\n",
       "\n",
       "    .dataframe tbody tr th {\n",
       "        vertical-align: top;\n",
       "    }\n",
       "\n",
       "    .dataframe thead th {\n",
       "        text-align: right;\n",
       "    }\n",
       "</style>\n",
       "<table border=\"1\" class=\"dataframe\">\n",
       "  <thead>\n",
       "    <tr style=\"text-align: right;\">\n",
       "      <th></th>\n",
       "      <th>hotel_address</th>\n",
       "      <th>review_date</th>\n",
       "      <th>hotel_name</th>\n",
       "      <th>negative_review</th>\n",
       "      <th>positive_review</th>\n",
       "      <th>reviewer_score</th>\n",
       "      <th>tags</th>\n",
       "      <th>days_since_review</th>\n",
       "      <th>reviewer_nationality</th>\n",
       "      <th>total_number_of_reviews_reviewer_has_given</th>\n",
       "      <th>lat</th>\n",
       "      <th>lng</th>\n",
       "      <th>review_class</th>\n",
       "      <th>review</th>\n",
       "      <th>filtered_review</th>\n",
       "    </tr>\n",
       "  </thead>\n",
       "  <tbody>\n",
       "    <tr>\n",
       "      <th>0</th>\n",
       "      <td>s Gravesandestraat 55 Oost 1092 AA Amsterdam ...</td>\n",
       "      <td>8/03/2017</td>\n",
       "      <td>Hotel Arena</td>\n",
       "      <td>I am so angry that i made this post available...</td>\n",
       "      <td>Only the park outside of the hotel was beauti...</td>\n",
       "      <td>2.9</td>\n",
       "      <td>[' Leisure trip ', ' Couple ', ' Duplex Double...</td>\n",
       "      <td>0 days</td>\n",
       "      <td>Russia</td>\n",
       "      <td>1</td>\n",
       "      <td>52.360576</td>\n",
       "      <td>4.915968</td>\n",
       "      <td>0</td>\n",
       "      <td>I am so angry that i made this post available...</td>\n",
       "      <td>angry made post available via possible sites u...</td>\n",
       "    </tr>\n",
       "    <tr>\n",
       "      <th>1</th>\n",
       "      <td>s Gravesandestraat 55 Oost 1092 AA Amsterdam ...</td>\n",
       "      <td>8/03/2017</td>\n",
       "      <td>Hotel Arena</td>\n",
       "      <td>No Negative</td>\n",
       "      <td>No real complaints the hotel was great great ...</td>\n",
       "      <td>7.5</td>\n",
       "      <td>[' Leisure trip ', ' Couple ', ' Duplex Double...</td>\n",
       "      <td>0 days</td>\n",
       "      <td>Ireland</td>\n",
       "      <td>1</td>\n",
       "      <td>52.360576</td>\n",
       "      <td>4.915968</td>\n",
       "      <td>0</td>\n",
       "      <td>No real complaints the hotel was great great ...</td>\n",
       "      <td>No real complaints hotel great great location ...</td>\n",
       "    </tr>\n",
       "    <tr>\n",
       "      <th>2</th>\n",
       "      <td>s Gravesandestraat 55 Oost 1092 AA Amsterdam ...</td>\n",
       "      <td>7/31/2017</td>\n",
       "      <td>Hotel Arena</td>\n",
       "      <td>Rooms are nice but for elderly a bit difficul...</td>\n",
       "      <td>Location was good and staff were ok It is cut...</td>\n",
       "      <td>7.1</td>\n",
       "      <td>[' Leisure trip ', ' Family with young childre...</td>\n",
       "      <td>3 days</td>\n",
       "      <td>Australia</td>\n",
       "      <td>1</td>\n",
       "      <td>52.360576</td>\n",
       "      <td>4.915968</td>\n",
       "      <td>0</td>\n",
       "      <td>Rooms are nice but for elderly a bit difficul...</td>\n",
       "      <td>Rooms nice elderly bit difficult rooms two sto...</td>\n",
       "    </tr>\n",
       "  </tbody>\n",
       "</table>\n",
       "</div>"
      ],
      "text/plain": [
       "                                       hotel_address review_date   hotel_name  \\\n",
       "0   s Gravesandestraat 55 Oost 1092 AA Amsterdam ...   8/03/2017  Hotel Arena   \n",
       "1   s Gravesandestraat 55 Oost 1092 AA Amsterdam ...   8/03/2017  Hotel Arena   \n",
       "2   s Gravesandestraat 55 Oost 1092 AA Amsterdam ...   7/31/2017  Hotel Arena   \n",
       "\n",
       "                                     negative_review  \\\n",
       "0   I am so angry that i made this post available...   \n",
       "1                                        No Negative   \n",
       "2   Rooms are nice but for elderly a bit difficul...   \n",
       "\n",
       "                                     positive_review  reviewer_score  \\\n",
       "0   Only the park outside of the hotel was beauti...             2.9   \n",
       "1   No real complaints the hotel was great great ...             7.5   \n",
       "2   Location was good and staff were ok It is cut...             7.1   \n",
       "\n",
       "                                                tags days_since_review  \\\n",
       "0  [' Leisure trip ', ' Couple ', ' Duplex Double...            0 days   \n",
       "1  [' Leisure trip ', ' Couple ', ' Duplex Double...            0 days   \n",
       "2  [' Leisure trip ', ' Family with young childre...            3 days   \n",
       "\n",
       "  reviewer_nationality  total_number_of_reviews_reviewer_has_given        lat  \\\n",
       "0              Russia                                            1  52.360576   \n",
       "1             Ireland                                            1  52.360576   \n",
       "2           Australia                                            1  52.360576   \n",
       "\n",
       "        lng  review_class                                             review  \\\n",
       "0  4.915968             0   I am so angry that i made this post available...   \n",
       "1  4.915968             0   No real complaints the hotel was great great ...   \n",
       "2  4.915968             0   Rooms are nice but for elderly a bit difficul...   \n",
       "\n",
       "                                     filtered_review  \n",
       "0  angry made post available via possible sites u...  \n",
       "1  No real complaints hotel great great location ...  \n",
       "2  Rooms nice elderly bit difficult rooms two sto...  "
      ]
     },
     "execution_count": 16,
     "metadata": {},
     "output_type": "execute_result"
    }
   ],
   "source": [
    "# Add a column for filtered review with stopwords\n",
    "df[\"filtered_review\"] = [\" \".join([word for word in text.split() if word.lower() not in stop_words]) for text in df['review']]\n",
    "print(df.shape)\n",
    "df.head(3)"
   ]
  },
  {
   "cell_type": "code",
   "execution_count": 17,
   "id": "ab4da38f",
   "metadata": {},
   "outputs": [
    {
     "data": {
      "text/plain": [
       "0    angry made post available via possible sites u...\n",
       "1    No real complaints hotel great great location ...\n",
       "2    Rooms nice elderly bit difficult rooms two sto...\n",
       "Name: filtered_review, dtype: object"
      ]
     },
     "execution_count": 17,
     "metadata": {},
     "output_type": "execute_result"
    }
   ],
   "source": [
    "X = df['filtered_review']\n",
    "y = df['review_class']\n",
    "X.head(3)"
   ]
  },
  {
   "cell_type": "code",
   "execution_count": 18,
   "id": "a9c9aab5",
   "metadata": {},
   "outputs": [
    {
     "data": {
      "text/plain": [
       "0    0\n",
       "1    0\n",
       "2    0\n",
       "Name: review_class, dtype: int64"
      ]
     },
     "execution_count": 18,
     "metadata": {},
     "output_type": "execute_result"
    }
   ],
   "source": [
    "y.head(3)"
   ]
  },
  {
   "cell_type": "code",
   "execution_count": 19,
   "id": "76710ea2",
   "metadata": {},
   "outputs": [],
   "source": [
    "# Split the train data and test data by rate 0.2\n",
    "X_train, X_test, y_train, y_test = train_test_split(X, y, test_size = 0.2, random_state=45)"
   ]
  },
  {
   "cell_type": "markdown",
   "id": "ecc7032e",
   "metadata": {},
   "source": [
    "<font face=Cambria color=black size=3>\n",
    "Splitting the dataset into a validation set is to prevent our model from overfitting, and perform well on unseen data."
   ]
  },
  {
   "cell_type": "code",
   "execution_count": 20,
   "id": "e57a4b96",
   "metadata": {},
   "outputs": [],
   "source": [
    "#TFIDF vectorizer\n",
    "vectorizer = TfidfVectorizer()\n",
    "X_train_vec = vectorizer.fit_transform(X_train)\n",
    "X_test_vec = vectorizer.transform(X_test)"
   ]
  },
  {
   "cell_type": "markdown",
   "id": "65b97714",
   "metadata": {},
   "source": [
    "<font face=Cambria color=black size=3>\n",
    "TF-IDF Vector representation is integer counts to weighted TF-IDF scores. Vectorizing these texts using TF-IDF is useful in text classification because it focuses on the frequency and the importance of words present in the text files."
   ]
  },
  {
   "cell_type": "markdown",
   "id": "622da4ff",
   "metadata": {},
   "source": [
    "### 4. Build a model and Evaluation"
   ]
  },
  {
   "cell_type": "markdown",
   "id": "3e4322e4",
   "metadata": {},
   "source": [
    "<font face=Cambria color=black size=3>\n",
    "Logistic regression is a supervised learning classification algorithm used to predict the probability of a target variable by using a given set of independent variables. It is one of the most classical Machine Learning algorithms and usually has good performance.\n",
    "In this task, Logistic Regression classifier is applied to solve a binary classification problem."
   ]
  },
  {
   "cell_type": "code",
   "execution_count": 21,
   "id": "5388b3ee",
   "metadata": {},
   "outputs": [
    {
     "name": "stdout",
     "output_type": "stream",
     "text": [
      "accuracy score: 0.7617\n"
     ]
    }
   ],
   "source": [
    "# Build a model\n",
    "lr = LogisticRegression()\n",
    "lr.fit(X_train_vec, y_train)\n",
    "y_pred_lr = lr.predict(X_test_vec)\n",
    "print('accuracy score: %0.4f'% accuracy_score(y_test, y_pred_lr))  #0.7620"
   ]
  },
  {
   "cell_type": "markdown",
   "id": "dda8346b",
   "metadata": {},
   "source": [
    "<font face=Cambria color=black size=3>\n",
    "Accuracy:<br>\n",
    "The distribution of the classes in data is balanced, accuracy is metric to show the model performance for the classification task, the higher the better. Accuracy is 76%, which is the number of times the model predicted the correct label overall labels in the dataset."
   ]
  },
  {
   "cell_type": "code",
   "execution_count": 22,
   "id": "f07b7c86",
   "metadata": {},
   "outputs": [
    {
     "name": "stdout",
     "output_type": "stream",
     "text": [
      "42065 11747 12835 36501\n",
      "0.7398 0.7817\n"
     ]
    }
   ],
   "source": [
    "#Confusion matrix\n",
    "cm_lr = confusion_matrix(y_test, y_pred_lr)\n",
    "tn, fp, fn, tp = confusion_matrix(y_test, y_pred_lr).ravel()\n",
    "print(tn, fp, fn, tp)\n",
    "tpr_lr = round(tp/(tp + fn), 4)\n",
    "tnr_lr = round(tn/(tn+fp), 4)\n",
    "print(tpr_lr, tnr_lr)"
   ]
  },
  {
   "cell_type": "code",
   "execution_count": 23,
   "id": "2253cc25",
   "metadata": {},
   "outputs": [
    {
     "data": {
      "image/png": "[encoded data removed]",
      "text/plain": [
       "<Figure size 432x288 with 2 Axes>"
      ]
     },
     "metadata": {
      "needs_background": "light"
     },
     "output_type": "display_data"
    }
   ],
   "source": [
    "# print(confusion_matrix(y_test, y_pred_lr))\n",
    "cm = confusion_matrix(y_test, y_pred_lr, labels=lr.classes_)\n",
    "disp = ConfusionMatrixDisplay(confusion_matrix=cm,display_labels=lr.classes_)\n",
    "disp.plot()\n",
    "plt.show()"
   ]
  },
  {
   "cell_type": "markdown",
   "id": "240aba28",
   "metadata": {},
   "source": [
    "<font face=Cambria color=black size=3>\n",
    "From the confusion matrix:<br>\n",
    "The model predicted 42065 labels correctly as Negative and 36501 labels correctly as Positive.\n",
    "However, 12835 labels are predicted as Positives while they are Negatives (False Negatives).\n",
    "The model predicted 11747 labels as Negatives but actually, they are Positives (False Positives)."
   ]
  },
  {
   "cell_type": "code",
   "execution_count": 24,
   "id": "8ca09a63",
   "metadata": {},
   "outputs": [
    {
     "data": {
      "image/png": "[encoded data removed]",
      "text/plain": [
       "<Figure size 432x288 with 1 Axes>"
      ]
     },
     "metadata": {
      "needs_background": "light"
     },
     "output_type": "display_data"
    }
   ],
   "source": [
    "# calculate the fpr and tpr for all thresholds of the classification\n",
    "probs = lr.predict_proba(X_test_vec)\n",
    "preds = probs[:,1]\n",
    "fpr, tpr, threshold = metrics.roc_curve(y_test, preds)\n",
    "roc_auc = metrics.auc(fpr, tpr)\n",
    "\n",
    "\n",
    "plt.title('Receiver Operating Characteristic')\n",
    "plt.plot(fpr, tpr, 'b', label = 'AUC = %0.2f' % roc_auc)\n",
    "plt.legend(loc = 'lower right')\n",
    "plt.plot([0, 1], [0, 1],'r--')\n",
    "plt.xlim([0, 1])\n",
    "plt.ylim([0, 1])\n",
    "plt.ylabel('True Positive Rate')\n",
    "plt.xlabel('False Positive Rate')\n",
    "plt.show()"
   ]
  },
  {
   "cell_type": "markdown",
   "id": "6020b6ba",
   "metadata": {},
   "source": [
    "<font face=Cambria color=black size=3>\n",
    "A receiver operating characteristic curve (ROC curve), is a graphical plot that illustrates the diagnostic ability of a binary classifier system as its discrimination threshold is varied. <br>\n",
    "Classifiers that give curves closer to the top-left corner indicate better performance. <br>\n",
    "The Area Under the Curve (AUC) is the measure of the ability of a classifier to distinguish between classes and is used as a summary of the ROC curve. The higher the AUC, the better the performance of the model at distinguishing between the positive and negative classes.\n",
    "It can be seen in this plot, AUC=0.84. The model performs well."
   ]
  },
  {
   "cell_type": "markdown",
   "id": "77d7b9d9",
   "metadata": {},
   "source": [
    "### 5. Prediction"
   ]
  },
  {
   "cell_type": "code",
   "execution_count": 25,
   "id": "41c50c1f",
   "metadata": {},
   "outputs": [
    {
     "name": "stdout",
     "output_type": "stream",
     "text": [
      "[0 0 1 ... 1 0 0]\n"
     ]
    }
   ],
   "source": [
    "X_test_vec1 = vectorizer.transform(X_test)\n",
    "sample_predict = lr.predict(X_test_vec1)\n",
    "print(sample_predict)"
   ]
  },
  {
   "cell_type": "code",
   "execution_count": 26,
   "id": "c7860324",
   "metadata": {},
   "outputs": [],
   "source": [
    "column_names = [\"pred\"]\n",
    "df_p = pd.DataFrame(sample_predict,columns=column_names)\n",
    "df_p[\"pred\"].replace([0,1],['No','Yes'],inplace=True)\n",
    "# df_p"
   ]
  },
  {
   "cell_type": "code",
   "execution_count": 27,
   "id": "94bfc8fa",
   "metadata": {},
   "outputs": [
    {
     "name": "stdout",
     "output_type": "stream",
     "text": [
      "                                          filtered_review pred\n",
      "0       Whenever Breakfast Tea brought room always col...   No\n",
      "1       Mattress good place close Puerto Olimpico Movi...   No\n",
      "2       Breakfast staff seemed little harrassed Buffet...  Yes\n",
      "3       No view Room Another building front like suffo...   No\n",
      "4       Breakfast Buffet poor Standard price ridiculou...   No\n",
      "...                                                   ...  ...\n",
      "103143         Nice breakfast fantastic location shopping  Yes\n",
      "103144  room felt little clinical lacked personality P...   No\n",
      "103145                    comfortable close metro station  Yes\n",
      "103146  Lighting terrible Impossible read ordinary boo...   No\n",
      "103147    expensive probably line nice hotels London nice   No\n",
      "\n",
      "[103148 rows x 2 columns]\n"
     ]
    }
   ],
   "source": [
    "df_s = pd.DataFrame(X_test)\n",
    "# print(df_s.shape)  #(103148, 1)\n",
    "# print(df_p.shape)  #(103148, 1)\n",
    "df_igno_idx = pd.concat([df_s.reset_index(),df_p.reset_index()], axis=1)\n",
    "# print(df_igno_idx)\n",
    "df_text_pred = df_igno_idx[['filtered_review', 'pred']]\n",
    "print(df_text_pred)"
   ]
  },
  {
   "cell_type": "markdown",
   "id": "78300646",
   "metadata": {},
   "source": [
    "<font face=Cambria color=black size=3>\n",
    "This Logistic regression classification model on the test data to predict whether the reviewer_score is greater than nine. The first column shows the review(after filtered), and the second column displays the predicted label (Yes or No) corresponding.<br>\n",
    "Yes - means reviewer_score is greater than nine. And vice versa."
   ]
  },
  {
   "cell_type": "code",
   "execution_count": null,
   "id": "4fe8eeaa",
   "metadata": {},
   "outputs": [],
   "source": []
  },
  {
   "cell_type": "code",
   "execution_count": null,
   "id": "5febc016",
   "metadata": {},
   "outputs": [],
   "source": []
  },
  {
   "cell_type": "code",
   "execution_count": null,
   "id": "8e4211e7",
   "metadata": {},
   "outputs": [],
   "source": []
  }
 ],
 "metadata": {
  "kernelspec": {
   "display_name": "Python 3 (ipykernel)",
   "language": "python",
   "name": "python3"
  },
  "language_info": {
   "codemirror_mode": {
    "name": "ipython",
    "version": 3
   },
   "file_extension": ".py",
   "mimetype": "text/x-python",
   "name": "python",
   "nbconvert_exporter": "python",
   "pygments_lexer": "ipython3",
   "version": "3.7.6"
  }
 },
 "nbformat": 4,
 "nbformat_minor": 5
}
