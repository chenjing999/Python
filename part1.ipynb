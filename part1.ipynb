{
 "cells": [
  {
   "cell_type": "code",
   "execution_count": 1,
   "id": "a471c96a",
   "metadata": {},
   "outputs": [],
   "source": [
    "import pandas as pd\n",
    "from matplotlib import pyplot as plt\n",
    "from nltk.corpus import stopwords\n",
    "from collections import Counter"
   ]
  },
  {
   "cell_type": "markdown",
   "id": "4470555c",
   "metadata": {},
   "source": [
    "### 1. Load the data"
   ]
  },
  {
   "cell_type": "code",
   "execution_count": 2,
   "id": "fa7bd8ac",
   "metadata": {},
   "outputs": [
    {
     "data": {
      "text/plain": [
       "(515738, 12)"
      ]
     },
     "execution_count": 2,
     "metadata": {},
     "output_type": "execute_result"
    }
   ],
   "source": [
    "# Load the data\n",
    "hotel = pd.read_csv(r'F:\\IMP_2022\\KPMG\\Jingjing Chen\\Jingjing Chen\\KPMG Lighthouse NZ Early Career Assessment\\data.csv')\n",
    "# Check data dimensions\n",
    "hotel.shape"
   ]
  },
  {
   "cell_type": "markdown",
   "id": "01d3e75a",
   "metadata": {},
   "source": [
    "### 2.1 Top 10 hotels by the number of reviews they’ve recieved"
   ]
  },
  {
   "cell_type": "code",
   "execution_count": 3,
   "id": "6154aec6",
   "metadata": {},
   "outputs": [
    {
     "data": {
      "text/html": [
       "<div>\n",
       "<style scoped>\n",
       "    .dataframe tbody tr th:only-of-type {\n",
       "        vertical-align: middle;\n",
       "    }\n",
       "\n",
       "    .dataframe tbody tr th {\n",
       "        vertical-align: top;\n",
       "    }\n",
       "\n",
       "    .dataframe thead th {\n",
       "        text-align: right;\n",
       "    }\n",
       "</style>\n",
       "<table border=\"1\" class=\"dataframe\">\n",
       "  <thead>\n",
       "    <tr style=\"text-align: right;\">\n",
       "      <th></th>\n",
       "      <th>total_number_of_reviews_reviewer_has_given</th>\n",
       "    </tr>\n",
       "    <tr>\n",
       "      <th>hotel_name</th>\n",
       "      <th></th>\n",
       "    </tr>\n",
       "  </thead>\n",
       "  <tbody>\n",
       "    <tr>\n",
       "      <th>11 Cadogan Gardens</th>\n",
       "      <td>159</td>\n",
       "    </tr>\n",
       "    <tr>\n",
       "      <th>1K Hotel</th>\n",
       "      <td>148</td>\n",
       "    </tr>\n",
       "    <tr>\n",
       "      <th>25hours Hotel beim MuseumsQuartier</th>\n",
       "      <td>4823</td>\n",
       "    </tr>\n",
       "    <tr>\n",
       "      <th>41</th>\n",
       "      <td>206</td>\n",
       "    </tr>\n",
       "    <tr>\n",
       "      <th>45 Park Lane Dorchester Collection</th>\n",
       "      <td>56</td>\n",
       "    </tr>\n",
       "    <tr>\n",
       "      <th>...</th>\n",
       "      <td>...</td>\n",
       "    </tr>\n",
       "    <tr>\n",
       "      <th>citizenM London Bankside</th>\n",
       "      <td>1517</td>\n",
       "    </tr>\n",
       "    <tr>\n",
       "      <th>citizenM London Shoreditch</th>\n",
       "      <td>1676</td>\n",
       "    </tr>\n",
       "    <tr>\n",
       "      <th>citizenM Tower of London</th>\n",
       "      <td>3366</td>\n",
       "    </tr>\n",
       "    <tr>\n",
       "      <th>every hotel Piccadilly</th>\n",
       "      <td>1136</td>\n",
       "    </tr>\n",
       "    <tr>\n",
       "      <th>pentahotel Vienna</th>\n",
       "      <td>1032</td>\n",
       "    </tr>\n",
       "  </tbody>\n",
       "</table>\n",
       "<p>1492 rows × 1 columns</p>\n",
       "</div>"
      ],
      "text/plain": [
       "                                    total_number_of_reviews_reviewer_has_given\n",
       "hotel_name                                                                    \n",
       "11 Cadogan Gardens                                                         159\n",
       "1K Hotel                                                                   148\n",
       "25hours Hotel beim MuseumsQuartier                                        4823\n",
       "41                                                                         206\n",
       "45 Park Lane Dorchester Collection                                          56\n",
       "...                                                                        ...\n",
       "citizenM London Bankside                                                  1517\n",
       "citizenM London Shoreditch                                                1676\n",
       "citizenM Tower of London                                                  3366\n",
       "every hotel Piccadilly                                                    1136\n",
       "pentahotel Vienna                                                         1032\n",
       "\n",
       "[1492 rows x 1 columns]"
      ]
     },
     "execution_count": 3,
     "metadata": {},
     "output_type": "execute_result"
    }
   ],
   "source": [
    "df = hotel.copy()\n",
    "df1 = df[[\"hotel_name\",\"total_number_of_reviews_reviewer_has_given\"]]\n",
    "\n",
    "# Obtain each hotel name and the corresponding total number of reviews\n",
    "df2=df1.groupby('hotel_name').sum()\n",
    "df2"
   ]
  },
  {
   "cell_type": "code",
   "execution_count": 4,
   "id": "ebc80f4f",
   "metadata": {},
   "outputs": [
    {
     "data": {
      "text/html": [
       "<div>\n",
       "<style scoped>\n",
       "    .dataframe tbody tr th:only-of-type {\n",
       "        vertical-align: middle;\n",
       "    }\n",
       "\n",
       "    .dataframe tbody tr th {\n",
       "        vertical-align: top;\n",
       "    }\n",
       "\n",
       "    .dataframe thead th {\n",
       "        text-align: right;\n",
       "    }\n",
       "</style>\n",
       "<table border=\"1\" class=\"dataframe\">\n",
       "  <thead>\n",
       "    <tr style=\"text-align: right;\">\n",
       "      <th></th>\n",
       "      <th>hotel_name</th>\n",
       "      <th>total_number_of_reviews_reviewer_has_given</th>\n",
       "    </tr>\n",
       "  </thead>\n",
       "  <tbody>\n",
       "    <tr>\n",
       "      <th>0</th>\n",
       "      <td>Holiday Inn London Kensington</td>\n",
       "      <td>221759</td>\n",
       "    </tr>\n",
       "    <tr>\n",
       "      <th>1</th>\n",
       "      <td>Park Plaza Westminster Bridge London</td>\n",
       "      <td>172954</td>\n",
       "    </tr>\n",
       "    <tr>\n",
       "      <th>2</th>\n",
       "      <td>The Student Hotel Amsterdam City</td>\n",
       "      <td>79626</td>\n",
       "    </tr>\n",
       "    <tr>\n",
       "      <th>3</th>\n",
       "      <td>Atlantis Hotel Vienna</td>\n",
       "      <td>52650</td>\n",
       "    </tr>\n",
       "    <tr>\n",
       "      <th>4</th>\n",
       "      <td>Copthorne Tara Hotel London Kensington</td>\n",
       "      <td>50092</td>\n",
       "    </tr>\n",
       "    <tr>\n",
       "      <th>...</th>\n",
       "      <td>...</td>\n",
       "      <td>...</td>\n",
       "    </tr>\n",
       "    <tr>\n",
       "      <th>1487</th>\n",
       "      <td>Drawing Hotel</td>\n",
       "      <td>14</td>\n",
       "    </tr>\n",
       "    <tr>\n",
       "      <th>1488</th>\n",
       "      <td>XO Hotel</td>\n",
       "      <td>13</td>\n",
       "    </tr>\n",
       "    <tr>\n",
       "      <th>1489</th>\n",
       "      <td>Le Lavoisier</td>\n",
       "      <td>12</td>\n",
       "    </tr>\n",
       "    <tr>\n",
       "      <th>1490</th>\n",
       "      <td>Boundary Rooms Suites</td>\n",
       "      <td>12</td>\n",
       "    </tr>\n",
       "    <tr>\n",
       "      <th>1491</th>\n",
       "      <td>Mercure Paris Porte d Orleans</td>\n",
       "      <td>10</td>\n",
       "    </tr>\n",
       "  </tbody>\n",
       "</table>\n",
       "<p>1492 rows × 2 columns</p>\n",
       "</div>"
      ],
      "text/plain": [
       "                                  hotel_name  \\\n",
       "0              Holiday Inn London Kensington   \n",
       "1       Park Plaza Westminster Bridge London   \n",
       "2           The Student Hotel Amsterdam City   \n",
       "3                      Atlantis Hotel Vienna   \n",
       "4     Copthorne Tara Hotel London Kensington   \n",
       "...                                      ...   \n",
       "1487                           Drawing Hotel   \n",
       "1488                                XO Hotel   \n",
       "1489                            Le Lavoisier   \n",
       "1490                   Boundary Rooms Suites   \n",
       "1491           Mercure Paris Porte d Orleans   \n",
       "\n",
       "      total_number_of_reviews_reviewer_has_given  \n",
       "0                                         221759  \n",
       "1                                         172954  \n",
       "2                                          79626  \n",
       "3                                          52650  \n",
       "4                                          50092  \n",
       "...                                          ...  \n",
       "1487                                          14  \n",
       "1488                                          13  \n",
       "1489                                          12  \n",
       "1490                                          12  \n",
       "1491                                          10  \n",
       "\n",
       "[1492 rows x 2 columns]"
      ]
     },
     "execution_count": 4,
     "metadata": {},
     "output_type": "execute_result"
    }
   ],
   "source": [
    "df3 = df2.sort_values(by='total_number_of_reviews_reviewer_has_given', ascending=False).reset_index()\n",
    "df3"
   ]
  },
  {
   "cell_type": "code",
   "execution_count": 5,
   "id": "b09103dc",
   "metadata": {},
   "outputs": [
    {
     "data": {
      "image/png": "[encoded data removed]",
      "text/plain": [
       "<Figure size 720x504 with 1 Axes>"
      ]
     },
     "metadata": {
      "needs_background": "light"
     },
     "output_type": "display_data"
    }
   ],
   "source": [
    "# To display the top 10 hotels by number of reviews in descending order\n",
    "# The top bar shows the hotel with the highest number of reviews\n",
    "df_sorted_top10_asc=df3.head(10).sort_values(by='total_number_of_reviews_reviewer_has_given', ascending=True)\n",
    "\n",
    "hotel_name = df_sorted_top10_asc['hotel_name']\n",
    "reviews_num = df_sorted_top10_asc['total_number_of_reviews_reviewer_has_given']\n",
    " \n",
    "fig = plt.figure(figsize =(10, 7))\n",
    " \n",
    "# Horizontal bar plot\n",
    "plt.barh(hotel_name, reviews_num,data=df_sorted_top10_asc)\n",
    "\n",
    "plt.title('Top 10 hotels by the number of reviews they’ve recieved',size=15)\n",
    "plt.ylabel('hotel_name')\n",
    "plt.xlabel('total_number_of_reviews')\n",
    "\n",
    "# plt.savefig('top_10.png', bbox_inches = 'tight')\n",
    "plt.show()"
   ]
  },
  {
   "cell_type": "markdown",
   "id": "f7b2d8af",
   "metadata": {},
   "source": [
    "### 2.2 The 10 least reliable hotels, measured using the interquartile range of reviews"
   ]
  },
  {
   "cell_type": "code",
   "execution_count": 6,
   "id": "a7436010",
   "metadata": {},
   "outputs": [
    {
     "data": {
      "text/plain": [
       "0       221759\n",
       "1       172954\n",
       "2        79626\n",
       "3        52650\n",
       "4        50092\n",
       "         ...  \n",
       "1487        14\n",
       "1488        13\n",
       "1489        12\n",
       "1490        12\n",
       "1491        10\n",
       "Name: total_number_of_reviews_reviewer_has_given, Length: 1492, dtype: int64"
      ]
     },
     "execution_count": 6,
     "metadata": {},
     "output_type": "execute_result"
    }
   ],
   "source": [
    "col = df3['total_number_of_reviews_reviewer_has_given']\n",
    "col"
   ]
  },
  {
   "cell_type": "code",
   "execution_count": 7,
   "id": "7f0f8072",
   "metadata": {},
   "outputs": [
    {
     "name": "stdout",
     "output_type": "stream",
     "text": [
      "199.75 2400.0\n"
     ]
    }
   ],
   "source": [
    "# The formula for quartiles is given by:\n",
    "# Lower Quartile (Q1) = 1st quartile or 25th percentile\n",
    "# Upper Quartile (Q3)= 3rd quartile or 75th percentile\n",
    "# Interquartile Range (IQR) = Q3 – Q1.\n",
    "\n",
    "lower_quantile, upper_quantile = col.quantile([.25, .75])\n",
    "print(lower_quantile, upper_quantile)"
   ]
  },
  {
   "cell_type": "code",
   "execution_count": 8,
   "id": "ad95fb25",
   "metadata": {},
   "outputs": [
    {
     "name": "stdout",
     "output_type": "stream",
     "text": [
      "(747, 2)\n"
     ]
    }
   ],
   "source": [
    "bottom10=df3[(col >= lower_quantile) & (col<=upper_quantile)]\n",
    "print(bottom10.shape)"
   ]
  },
  {
   "cell_type": "code",
   "execution_count": 9,
   "id": "ffa66aad",
   "metadata": {},
   "outputs": [
    {
     "data": {
      "text/html": [
       "<div>\n",
       "<style scoped>\n",
       "    .dataframe tbody tr th:only-of-type {\n",
       "        vertical-align: middle;\n",
       "    }\n",
       "\n",
       "    .dataframe tbody tr th {\n",
       "        vertical-align: top;\n",
       "    }\n",
       "\n",
       "    .dataframe thead th {\n",
       "        text-align: right;\n",
       "    }\n",
       "</style>\n",
       "<table border=\"1\" class=\"dataframe\">\n",
       "  <thead>\n",
       "    <tr style=\"text-align: right;\">\n",
       "      <th></th>\n",
       "      <th>hotel_name</th>\n",
       "      <th>total_number_of_reviews_reviewer_has_given</th>\n",
       "    </tr>\n",
       "  </thead>\n",
       "  <tbody>\n",
       "    <tr>\n",
       "      <th>1109</th>\n",
       "      <td>Best Western Premier Louvre Saint Honor</td>\n",
       "      <td>205</td>\n",
       "    </tr>\n",
       "    <tr>\n",
       "      <th>1110</th>\n",
       "      <td>Hotel Maison FL</td>\n",
       "      <td>204</td>\n",
       "    </tr>\n",
       "    <tr>\n",
       "      <th>1111</th>\n",
       "      <td>Golden Tulip Washington Opera</td>\n",
       "      <td>204</td>\n",
       "    </tr>\n",
       "    <tr>\n",
       "      <th>1112</th>\n",
       "      <td>H tel Aiglon Esprit de France</td>\n",
       "      <td>202</td>\n",
       "    </tr>\n",
       "    <tr>\n",
       "      <th>1113</th>\n",
       "      <td>Royal Garden Champs Elysees</td>\n",
       "      <td>202</td>\n",
       "    </tr>\n",
       "    <tr>\n",
       "      <th>1114</th>\n",
       "      <td>Novotel Paris 17</td>\n",
       "      <td>202</td>\n",
       "    </tr>\n",
       "    <tr>\n",
       "      <th>1115</th>\n",
       "      <td>Terrass H tel Montmartre by MH</td>\n",
       "      <td>201</td>\n",
       "    </tr>\n",
       "    <tr>\n",
       "      <th>1116</th>\n",
       "      <td>The Colonnade</td>\n",
       "      <td>201</td>\n",
       "    </tr>\n",
       "    <tr>\n",
       "      <th>1117</th>\n",
       "      <td>Best Western Aulivia Op ra</td>\n",
       "      <td>200</td>\n",
       "    </tr>\n",
       "    <tr>\n",
       "      <th>1118</th>\n",
       "      <td>Hotel Pulitzer Paris</td>\n",
       "      <td>200</td>\n",
       "    </tr>\n",
       "  </tbody>\n",
       "</table>\n",
       "</div>"
      ],
      "text/plain": [
       "                                    hotel_name  \\\n",
       "1109  Best Western Premier Louvre Saint Honor    \n",
       "1110                           Hotel Maison FL   \n",
       "1111             Golden Tulip Washington Opera   \n",
       "1112             H tel Aiglon Esprit de France   \n",
       "1113               Royal Garden Champs Elysees   \n",
       "1114                          Novotel Paris 17   \n",
       "1115            Terrass H tel Montmartre by MH   \n",
       "1116                             The Colonnade   \n",
       "1117                Best Western Aulivia Op ra   \n",
       "1118                      Hotel Pulitzer Paris   \n",
       "\n",
       "      total_number_of_reviews_reviewer_has_given  \n",
       "1109                                         205  \n",
       "1110                                         204  \n",
       "1111                                         204  \n",
       "1112                                         202  \n",
       "1113                                         202  \n",
       "1114                                         202  \n",
       "1115                                         201  \n",
       "1116                                         201  \n",
       "1117                                         200  \n",
       "1118                                         200  "
      ]
     },
     "execution_count": 9,
     "metadata": {},
     "output_type": "execute_result"
    }
   ],
   "source": [
    "bottom10.tail(10)"
   ]
  },
  {
   "cell_type": "code",
   "execution_count": 10,
   "id": "7874358f",
   "metadata": {},
   "outputs": [
    {
     "data": {
      "image/png": "[encoded data removed]",
      "text/plain": [
       "<Figure size 720x504 with 1 Axes>"
      ]
     },
     "metadata": {
      "needs_background": "light"
     },
     "output_type": "display_data"
    }
   ],
   "source": [
    "# To display the least/bottom 10 hotels by number of reviews in ascending order\n",
    "# The top bar shows the hotel with the least number of reviews\n",
    "hotel_name2 = bottom10.tail(10)['hotel_name']\n",
    "reviews_num2 = bottom10.tail(10)['total_number_of_reviews_reviewer_has_given']\n",
    " \n",
    "fig = plt.figure(figsize =(10, 7))\n",
    " \n",
    "# Horizontal bar plot\n",
    "plt.barh(hotel_name2, reviews_num2,data=bottom10.tail(10))\n",
    "\n",
    "plt.title('The 10 least hotels by the number of reviews (interquartile range)',size=15)\n",
    "plt.ylabel('hotel_name')\n",
    "plt.xlabel('total_number_of_reviews')\n",
    "\n",
    "# plt.savefig('the_least_10.png', bbox_inches = 'tight') \n",
    "plt.show()"
   ]
  },
  {
   "cell_type": "markdown",
   "id": "e62187b1",
   "metadata": {},
   "source": [
    "### 3. Create a column called positive_review_wc with the number of words included in the comments of the positive_review column"
   ]
  },
  {
   "cell_type": "code",
   "execution_count": 11,
   "id": "13ef75b4",
   "metadata": {},
   "outputs": [
    {
     "data": {
      "text/html": [
       "<div>\n",
       "<style scoped>\n",
       "    .dataframe tbody tr th:only-of-type {\n",
       "        vertical-align: middle;\n",
       "    }\n",
       "\n",
       "    .dataframe tbody tr th {\n",
       "        vertical-align: top;\n",
       "    }\n",
       "\n",
       "    .dataframe thead th {\n",
       "        text-align: right;\n",
       "    }\n",
       "</style>\n",
       "<table border=\"1\" class=\"dataframe\">\n",
       "  <thead>\n",
       "    <tr style=\"text-align: right;\">\n",
       "      <th></th>\n",
       "      <th>hotel_address</th>\n",
       "      <th>review_date</th>\n",
       "      <th>hotel_name</th>\n",
       "      <th>negative_review</th>\n",
       "      <th>positive_review</th>\n",
       "      <th>reviewer_score</th>\n",
       "      <th>tags</th>\n",
       "      <th>days_since_review</th>\n",
       "      <th>reviewer_nationality</th>\n",
       "      <th>total_number_of_reviews_reviewer_has_given</th>\n",
       "      <th>lat</th>\n",
       "      <th>lng</th>\n",
       "      <th>positive_review_wc</th>\n",
       "    </tr>\n",
       "  </thead>\n",
       "  <tbody>\n",
       "    <tr>\n",
       "      <th>0</th>\n",
       "      <td>s Gravesandestraat 55 Oost 1092 AA Amsterdam ...</td>\n",
       "      <td>8/03/2017</td>\n",
       "      <td>Hotel Arena</td>\n",
       "      <td>I am so angry that i made this post available...</td>\n",
       "      <td>Only the park outside of the hotel was beauti...</td>\n",
       "      <td>2.9</td>\n",
       "      <td>[' Leisure trip ', ' Couple ', ' Duplex Double...</td>\n",
       "      <td>0 days</td>\n",
       "      <td>Russia</td>\n",
       "      <td>1</td>\n",
       "      <td>52.360576</td>\n",
       "      <td>4.915968</td>\n",
       "      <td>9</td>\n",
       "    </tr>\n",
       "    <tr>\n",
       "      <th>1</th>\n",
       "      <td>s Gravesandestraat 55 Oost 1092 AA Amsterdam ...</td>\n",
       "      <td>8/03/2017</td>\n",
       "      <td>Hotel Arena</td>\n",
       "      <td>No Negative</td>\n",
       "      <td>No real complaints the hotel was great great ...</td>\n",
       "      <td>7.5</td>\n",
       "      <td>[' Leisure trip ', ' Couple ', ' Duplex Double...</td>\n",
       "      <td>0 days</td>\n",
       "      <td>Ireland</td>\n",
       "      <td>1</td>\n",
       "      <td>52.360576</td>\n",
       "      <td>4.915968</td>\n",
       "      <td>103</td>\n",
       "    </tr>\n",
       "    <tr>\n",
       "      <th>2</th>\n",
       "      <td>s Gravesandestraat 55 Oost 1092 AA Amsterdam ...</td>\n",
       "      <td>7/31/2017</td>\n",
       "      <td>Hotel Arena</td>\n",
       "      <td>Rooms are nice but for elderly a bit difficul...</td>\n",
       "      <td>Location was good and staff were ok It is cut...</td>\n",
       "      <td>7.1</td>\n",
       "      <td>[' Leisure trip ', ' Family with young childre...</td>\n",
       "      <td>3 days</td>\n",
       "      <td>Australia</td>\n",
       "      <td>1</td>\n",
       "      <td>52.360576</td>\n",
       "      <td>4.915968</td>\n",
       "      <td>19</td>\n",
       "    </tr>\n",
       "    <tr>\n",
       "      <th>3</th>\n",
       "      <td>s Gravesandestraat 55 Oost 1092 AA Amsterdam ...</td>\n",
       "      <td>7/31/2017</td>\n",
       "      <td>Hotel Arena</td>\n",
       "      <td>My room was dirty and I was afraid to walk ba...</td>\n",
       "      <td>Great location in nice surroundings the bar a...</td>\n",
       "      <td>3.8</td>\n",
       "      <td>[' Leisure trip ', ' Solo traveler ', ' Duplex...</td>\n",
       "      <td>3 days</td>\n",
       "      <td>United Kingdom</td>\n",
       "      <td>1</td>\n",
       "      <td>52.360576</td>\n",
       "      <td>4.915968</td>\n",
       "      <td>24</td>\n",
       "    </tr>\n",
       "    <tr>\n",
       "      <th>4</th>\n",
       "      <td>s Gravesandestraat 55 Oost 1092 AA Amsterdam ...</td>\n",
       "      <td>7/24/2017</td>\n",
       "      <td>Hotel Arena</td>\n",
       "      <td>You When I booked with your company on line y...</td>\n",
       "      <td>Amazing location and building Romantic setting</td>\n",
       "      <td>6.7</td>\n",
       "      <td>[' Leisure trip ', ' Couple ', ' Suite ', ' St...</td>\n",
       "      <td>10 days</td>\n",
       "      <td>New Zealand</td>\n",
       "      <td>1</td>\n",
       "      <td>52.360576</td>\n",
       "      <td>4.915968</td>\n",
       "      <td>6</td>\n",
       "    </tr>\n",
       "  </tbody>\n",
       "</table>\n",
       "</div>"
      ],
      "text/plain": [
       "                                       hotel_address review_date   hotel_name  \\\n",
       "0   s Gravesandestraat 55 Oost 1092 AA Amsterdam ...   8/03/2017  Hotel Arena   \n",
       "1   s Gravesandestraat 55 Oost 1092 AA Amsterdam ...   8/03/2017  Hotel Arena   \n",
       "2   s Gravesandestraat 55 Oost 1092 AA Amsterdam ...   7/31/2017  Hotel Arena   \n",
       "3   s Gravesandestraat 55 Oost 1092 AA Amsterdam ...   7/31/2017  Hotel Arena   \n",
       "4   s Gravesandestraat 55 Oost 1092 AA Amsterdam ...   7/24/2017  Hotel Arena   \n",
       "\n",
       "                                     negative_review  \\\n",
       "0   I am so angry that i made this post available...   \n",
       "1                                        No Negative   \n",
       "2   Rooms are nice but for elderly a bit difficul...   \n",
       "3   My room was dirty and I was afraid to walk ba...   \n",
       "4   You When I booked with your company on line y...   \n",
       "\n",
       "                                     positive_review  reviewer_score  \\\n",
       "0   Only the park outside of the hotel was beauti...             2.9   \n",
       "1   No real complaints the hotel was great great ...             7.5   \n",
       "2   Location was good and staff were ok It is cut...             7.1   \n",
       "3   Great location in nice surroundings the bar a...             3.8   \n",
       "4    Amazing location and building Romantic setting              6.7   \n",
       "\n",
       "                                                tags days_since_review  \\\n",
       "0  [' Leisure trip ', ' Couple ', ' Duplex Double...            0 days   \n",
       "1  [' Leisure trip ', ' Couple ', ' Duplex Double...            0 days   \n",
       "2  [' Leisure trip ', ' Family with young childre...            3 days   \n",
       "3  [' Leisure trip ', ' Solo traveler ', ' Duplex...            3 days   \n",
       "4  [' Leisure trip ', ' Couple ', ' Suite ', ' St...           10 days   \n",
       "\n",
       "  reviewer_nationality  total_number_of_reviews_reviewer_has_given        lat  \\\n",
       "0              Russia                                            1  52.360576   \n",
       "1             Ireland                                            1  52.360576   \n",
       "2           Australia                                            1  52.360576   \n",
       "3      United Kingdom                                            1  52.360576   \n",
       "4         New Zealand                                            1  52.360576   \n",
       "\n",
       "        lng  positive_review_wc  \n",
       "0  4.915968                   9  \n",
       "1  4.915968                 103  \n",
       "2  4.915968                  19  \n",
       "3  4.915968                  24  \n",
       "4  4.915968                   6  "
      ]
     },
     "execution_count": 11,
     "metadata": {},
     "output_type": "execute_result"
    }
   ],
   "source": [
    "# Create a column\n",
    "hotel[\"positive_review_wc\"] = [len(i.strip().split(' ')) for i in hotel['positive_review']]\n",
    "hotel.head()"
   ]
  },
  {
   "cell_type": "code",
   "execution_count": 12,
   "id": "b5d43441",
   "metadata": {},
   "outputs": [
    {
     "data": {
      "text/plain": [
       "(515738, 13)"
      ]
     },
     "execution_count": 12,
     "metadata": {},
     "output_type": "execute_result"
    }
   ],
   "source": [
    "hotel.shape"
   ]
  },
  {
   "cell_type": "markdown",
   "id": "6236c8c4",
   "metadata": {},
   "source": [
    "<font face=Cambria color=blue size=3>\n",
    "Answer:"
   ]
  },
  {
   "cell_type": "markdown",
   "id": "4af07e3f",
   "metadata": {},
   "source": [
    " <font face=Cambria color=black size=3>\n",
    "It can be seen that after adding a column, the new table has 13 columns (the original has 12 columns), and the new column shows the number of words included in the comments of the positive_review column."
   ]
  },
  {
   "cell_type": "markdown",
   "id": "da7983e9",
   "metadata": {},
   "source": [
    "### 4. Prepare a scatter plot comparing positive_review_wc and reviewer_score."
   ]
  },
  {
   "cell_type": "code",
   "execution_count": 13,
   "id": "ee6d2b7b",
   "metadata": {},
   "outputs": [
    {
     "data": {
      "text/plain": [
       "<matplotlib.collections.PathCollection at 0x1aea597d748>"
      ]
     },
     "execution_count": 13,
     "metadata": {},
     "output_type": "execute_result"
    },
    {
     "data": {
      "image/png": "[encoded data removed]",
      "text/plain": [
       "<Figure size 648x432 with 1 Axes>"
      ]
     },
     "metadata": {
      "needs_background": "light"
     },
     "output_type": "display_data"
    }
   ],
   "source": [
    "# Plot a scatter plot of comparing positive_review_wc and reviewer_score.\n",
    "fig,ax = plt.subplots(figsize=(9,6))\n",
    "ax.set_title('Compare Positive Review Words count and Reviewer Score',size=18)\n",
    "ax.set_xlabel('positive_review_wc',fontsize=15) # x-axis name\n",
    "ax.set_ylabel('review_score',fontsize=15) # y-axis name\n",
    "ax.scatter(x='positive_review_wc',y='reviewer_score',data=hotel)"
   ]
  },
  {
   "cell_type": "markdown",
   "id": "edc2e199",
   "metadata": {},
   "source": [
    "<font face=Cambria color=blue size=3>\n",
    "Comment on the relationship:"
   ]
  },
  {
   "cell_type": "markdown",
   "id": "261f9a9f",
   "metadata": {},
   "source": [
    " <font face=Cambria color=black size=3>\n",
    "The two variables/features positive_review_wc and reviewer_score are not related."
   ]
  },
  {
   "cell_type": "code",
   "execution_count": 14,
   "id": "059dcf1b",
   "metadata": {},
   "outputs": [
    {
     "data": {
      "image/png": "[encoded data removed]",
      "text/plain": [
       "<Figure size 432x288 with 1 Axes>"
      ]
     },
     "metadata": {
      "needs_background": "light"
     },
     "output_type": "display_data"
    }
   ],
   "source": [
    "# The distribution of total_number_of_reviews_reviewer_has_give feature  \n",
    "x = hotel['total_number_of_reviews_reviewer_has_given']\n",
    "plt.hist(x, bins = 50)\n",
    "plt.title('Distribution of the total number of reviews reviewer has given)')\n",
    "plt.show()"
   ]
  },
  {
   "cell_type": "markdown",
   "id": "24cd1837",
   "metadata": {},
   "source": [
    "<font face=Cambria color=blue size=3>\n",
    "Explanations:"
   ]
  },
  {
   "cell_type": "markdown",
   "id": "b32f89c9",
   "metadata": {},
   "source": [
    " <font face=Cambria color=black size=3>\n",
    "As seen from the scatter plot, positive_review_wc represents the number of words included in the comments of the positive_review column. \n",
    "When positive_review_wc is less than 50, regardless of the number of words, it has no effect on the reviewer score. There is no evidence that they are related. <br>    \n",
    "    \n",
    "When positive_review_wc is greater than 50, as the number of words increases, there is a slight trend that the reviewer score seems to be more concentrated in the high-scoring area, such as when positive_review_wc is greater than 300. However, there is still no obvious positive or negative correlation between  positive_review_wc and reviewer_score. <br>\n",
    "    \n",
    "In addition, the histogram above shows the distribution of the total number of reviews, and it can be seen that the number of comments greater than 50 is very small, at the tail of the histogram, so it can be ignored. Thus, combined with the above scatterplot reviews, positive_review_wc and reviewer_score are not relevant."
   ]
  },
  {
   "cell_type": "markdown",
   "id": "b7682801",
   "metadata": {},
   "source": [
    "### 5. Obtain the 10 most frequently used words from the positive_review column. Consider removing stop words before counting"
   ]
  },
  {
   "cell_type": "code",
   "execution_count": 15,
   "id": "d4586a13",
   "metadata": {},
   "outputs": [
    {
     "name": "stdout",
     "output_type": "stream",
     "text": [
      "<class 'list'>\n",
      "179\n"
     ]
    }
   ],
   "source": [
    "# Removing stop words before counting\n",
    "stop_words = stopwords.words('english')\n",
    "print(type(stop_words))\n",
    "print(len(stop_words))\n",
    "# stop_words.append('nor')"
   ]
  },
  {
   "cell_type": "code",
   "execution_count": 16,
   "id": "181110a0",
   "metadata": {},
   "outputs": [
    {
     "name": "stdout",
     "output_type": "stream",
     "text": [
      "(515738, 14)\n"
     ]
    },
    {
     "data": {
      "text/html": [
       "<div>\n",
       "<style scoped>\n",
       "    .dataframe tbody tr th:only-of-type {\n",
       "        vertical-align: middle;\n",
       "    }\n",
       "\n",
       "    .dataframe tbody tr th {\n",
       "        vertical-align: top;\n",
       "    }\n",
       "\n",
       "    .dataframe thead th {\n",
       "        text-align: right;\n",
       "    }\n",
       "</style>\n",
       "<table border=\"1\" class=\"dataframe\">\n",
       "  <thead>\n",
       "    <tr style=\"text-align: right;\">\n",
       "      <th></th>\n",
       "      <th>hotel_address</th>\n",
       "      <th>review_date</th>\n",
       "      <th>hotel_name</th>\n",
       "      <th>negative_review</th>\n",
       "      <th>positive_review</th>\n",
       "      <th>reviewer_score</th>\n",
       "      <th>tags</th>\n",
       "      <th>days_since_review</th>\n",
       "      <th>reviewer_nationality</th>\n",
       "      <th>total_number_of_reviews_reviewer_has_given</th>\n",
       "      <th>lat</th>\n",
       "      <th>lng</th>\n",
       "      <th>positive_review_wc</th>\n",
       "      <th>filtered_by_stop_words</th>\n",
       "    </tr>\n",
       "  </thead>\n",
       "  <tbody>\n",
       "    <tr>\n",
       "      <th>0</th>\n",
       "      <td>s Gravesandestraat 55 Oost 1092 AA Amsterdam ...</td>\n",
       "      <td>8/03/2017</td>\n",
       "      <td>Hotel Arena</td>\n",
       "      <td>I am so angry that i made this post available...</td>\n",
       "      <td>Only the park outside of the hotel was beauti...</td>\n",
       "      <td>2.9</td>\n",
       "      <td>[' Leisure trip ', ' Couple ', ' Duplex Double...</td>\n",
       "      <td>0 days</td>\n",
       "      <td>Russia</td>\n",
       "      <td>1</td>\n",
       "      <td>52.360576</td>\n",
       "      <td>4.915968</td>\n",
       "      <td>9</td>\n",
       "      <td>park outside hotel beautiful</td>\n",
       "    </tr>\n",
       "    <tr>\n",
       "      <th>1</th>\n",
       "      <td>s Gravesandestraat 55 Oost 1092 AA Amsterdam ...</td>\n",
       "      <td>8/03/2017</td>\n",
       "      <td>Hotel Arena</td>\n",
       "      <td>No Negative</td>\n",
       "      <td>No real complaints the hotel was great great ...</td>\n",
       "      <td>7.5</td>\n",
       "      <td>[' Leisure trip ', ' Couple ', ' Duplex Double...</td>\n",
       "      <td>0 days</td>\n",
       "      <td>Ireland</td>\n",
       "      <td>1</td>\n",
       "      <td>52.360576</td>\n",
       "      <td>4.915968</td>\n",
       "      <td>103</td>\n",
       "      <td>real complaints hotel great great location sur...</td>\n",
       "    </tr>\n",
       "    <tr>\n",
       "      <th>2</th>\n",
       "      <td>s Gravesandestraat 55 Oost 1092 AA Amsterdam ...</td>\n",
       "      <td>7/31/2017</td>\n",
       "      <td>Hotel Arena</td>\n",
       "      <td>Rooms are nice but for elderly a bit difficul...</td>\n",
       "      <td>Location was good and staff were ok It is cut...</td>\n",
       "      <td>7.1</td>\n",
       "      <td>[' Leisure trip ', ' Family with young childre...</td>\n",
       "      <td>3 days</td>\n",
       "      <td>Australia</td>\n",
       "      <td>1</td>\n",
       "      <td>52.360576</td>\n",
       "      <td>4.915968</td>\n",
       "      <td>19</td>\n",
       "      <td>Location good staff ok cute hotel breakfast ra...</td>\n",
       "    </tr>\n",
       "    <tr>\n",
       "      <th>3</th>\n",
       "      <td>s Gravesandestraat 55 Oost 1092 AA Amsterdam ...</td>\n",
       "      <td>7/31/2017</td>\n",
       "      <td>Hotel Arena</td>\n",
       "      <td>My room was dirty and I was afraid to walk ba...</td>\n",
       "      <td>Great location in nice surroundings the bar a...</td>\n",
       "      <td>3.8</td>\n",
       "      <td>[' Leisure trip ', ' Solo traveler ', ' Duplex...</td>\n",
       "      <td>3 days</td>\n",
       "      <td>United Kingdom</td>\n",
       "      <td>1</td>\n",
       "      <td>52.360576</td>\n",
       "      <td>4.915968</td>\n",
       "      <td>24</td>\n",
       "      <td>Great location nice surroundings bar restauran...</td>\n",
       "    </tr>\n",
       "    <tr>\n",
       "      <th>4</th>\n",
       "      <td>s Gravesandestraat 55 Oost 1092 AA Amsterdam ...</td>\n",
       "      <td>7/24/2017</td>\n",
       "      <td>Hotel Arena</td>\n",
       "      <td>You When I booked with your company on line y...</td>\n",
       "      <td>Amazing location and building Romantic setting</td>\n",
       "      <td>6.7</td>\n",
       "      <td>[' Leisure trip ', ' Couple ', ' Suite ', ' St...</td>\n",
       "      <td>10 days</td>\n",
       "      <td>New Zealand</td>\n",
       "      <td>1</td>\n",
       "      <td>52.360576</td>\n",
       "      <td>4.915968</td>\n",
       "      <td>6</td>\n",
       "      <td>Amazing location building Romantic setting</td>\n",
       "    </tr>\n",
       "  </tbody>\n",
       "</table>\n",
       "</div>"
      ],
      "text/plain": [
       "                                       hotel_address review_date   hotel_name  \\\n",
       "0   s Gravesandestraat 55 Oost 1092 AA Amsterdam ...   8/03/2017  Hotel Arena   \n",
       "1   s Gravesandestraat 55 Oost 1092 AA Amsterdam ...   8/03/2017  Hotel Arena   \n",
       "2   s Gravesandestraat 55 Oost 1092 AA Amsterdam ...   7/31/2017  Hotel Arena   \n",
       "3   s Gravesandestraat 55 Oost 1092 AA Amsterdam ...   7/31/2017  Hotel Arena   \n",
       "4   s Gravesandestraat 55 Oost 1092 AA Amsterdam ...   7/24/2017  Hotel Arena   \n",
       "\n",
       "                                     negative_review  \\\n",
       "0   I am so angry that i made this post available...   \n",
       "1                                        No Negative   \n",
       "2   Rooms are nice but for elderly a bit difficul...   \n",
       "3   My room was dirty and I was afraid to walk ba...   \n",
       "4   You When I booked with your company on line y...   \n",
       "\n",
       "                                     positive_review  reviewer_score  \\\n",
       "0   Only the park outside of the hotel was beauti...             2.9   \n",
       "1   No real complaints the hotel was great great ...             7.5   \n",
       "2   Location was good and staff were ok It is cut...             7.1   \n",
       "3   Great location in nice surroundings the bar a...             3.8   \n",
       "4    Amazing location and building Romantic setting              6.7   \n",
       "\n",
       "                                                tags days_since_review  \\\n",
       "0  [' Leisure trip ', ' Couple ', ' Duplex Double...            0 days   \n",
       "1  [' Leisure trip ', ' Couple ', ' Duplex Double...            0 days   \n",
       "2  [' Leisure trip ', ' Family with young childre...            3 days   \n",
       "3  [' Leisure trip ', ' Solo traveler ', ' Duplex...            3 days   \n",
       "4  [' Leisure trip ', ' Couple ', ' Suite ', ' St...           10 days   \n",
       "\n",
       "  reviewer_nationality  total_number_of_reviews_reviewer_has_given        lat  \\\n",
       "0              Russia                                            1  52.360576   \n",
       "1             Ireland                                            1  52.360576   \n",
       "2           Australia                                            1  52.360576   \n",
       "3      United Kingdom                                            1  52.360576   \n",
       "4         New Zealand                                            1  52.360576   \n",
       "\n",
       "        lng  positive_review_wc  \\\n",
       "0  4.915968                   9   \n",
       "1  4.915968                 103   \n",
       "2  4.915968                  19   \n",
       "3  4.915968                  24   \n",
       "4  4.915968                   6   \n",
       "\n",
       "                              filtered_by_stop_words  \n",
       "0                       park outside hotel beautiful  \n",
       "1  real complaints hotel great great location sur...  \n",
       "2  Location good staff ok cute hotel breakfast ra...  \n",
       "3  Great location nice surroundings bar restauran...  \n",
       "4         Amazing location building Romantic setting  "
      ]
     },
     "execution_count": 16,
     "metadata": {},
     "output_type": "execute_result"
    }
   ],
   "source": [
    "hotel[\"filtered_by_stop_words\"] = [\" \".join([word for word in text.split() if word.lower() not in stop_words]) for text in hotel['positive_review']]\n",
    "print(hotel.shape)\n",
    "hotel.head()"
   ]
  },
  {
   "cell_type": "code",
   "execution_count": 17,
   "id": "7aee01af",
   "metadata": {},
   "outputs": [
    {
     "name": "stdout",
     "output_type": "stream",
     "text": [
      "        word  frequency\n",
      "0      staff     154145\n",
      "1   location     138293\n",
      "2       room     123504\n",
      "3      hotel     111808\n",
      "4       good      84737\n",
      "5    helpful      72954\n",
      "6   friendly      72417\n",
      "7      great      64576\n",
      "8  breakfast      64335\n",
      "9      clean      57042\n"
     ]
    }
   ],
   "source": [
    "# Obtain the 10 most frequently used words\n",
    "df_temp = hotel[\"filtered_by_stop_words\"]\n",
    "df_new = Counter(\" \".join(df_temp).split()).most_common(10)\n",
    "top10_frequency_words = pd.DataFrame(df_new, columns=['word', 'frequency'])\n",
    "print(top10_frequency_words)"
   ]
  },
  {
   "cell_type": "markdown",
   "id": "69928909",
   "metadata": {},
   "source": [
    "<font face=Cambria color=blue size=3>\n",
    "Answer:"
   ]
  },
  {
   "cell_type": "markdown",
   "id": "51d1c73e",
   "metadata": {},
   "source": [
    " <font face=Cambria color=black size=3>\n",
    "The top frequency words are: staff, location, room, hotel, good, helpful, friendly, great, breakfast, clean."
   ]
  },
  {
   "cell_type": "code",
   "execution_count": null,
   "id": "2b9da276",
   "metadata": {},
   "outputs": [],
   "source": []
  }
 ],
 "metadata": {
  "kernelspec": {
   "display_name": "Python 3 (ipykernel)",
   "language": "python",
   "name": "python3"
  },
  "language_info": {
   "codemirror_mode": {
    "name": "ipython",
    "version": 3
   },
   "file_extension": ".py",
   "mimetype": "text/x-python",
   "name": "python",
   "nbconvert_exporter": "python",
   "pygments_lexer": "ipython3",
   "version": "3.7.6"
  }
 },
 "nbformat": 4,
 "nbformat_minor": 5
}
